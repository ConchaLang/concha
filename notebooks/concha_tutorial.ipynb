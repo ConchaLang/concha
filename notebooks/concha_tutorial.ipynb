{
 "cells": [
  {
   "cell_type": "markdown",
   "metadata": {},
   "source": [
    "# Concha Tutorial\n",
    "Follow this instructions to understand how to deal with Concha and its concepts:\n",
    "\n",
    "* Concha Service\n",
    "* Servers auxiliar mock Service\n",
    "* Documents\n",
    "* Tricks\n",
    "* GET Tricks\n",
    "* POST Tricks\n",
    "* TREAT Tricks and dependent clauses\n",
    "\n",
    "You should be executing this very notebook running `jupyter concha_tutorial.ipynb` in a console to follow the instructions to master Concha usage. Please run cells sequentially to do that."
   ]
  },
  {
   "cell_type": "code",
   "execution_count": 38,
   "metadata": {
    "collapsed": true
   },
   "outputs": [],
   "source": [
    "# Please run first this cell to set up rest of executions\n",
    "import requests\n",
    "\n",
    "def post(uri, body):\n",
    "    response = requests.post(url=uri, json=body)\n",
    "    print('status={}'.format(response.status_code))\n",
    "    print(response.text)\n",
    "\n",
    "def get(uri):\n",
    "    response = requests.get(url=uri)\n",
    "    print('status={}'.format(response.status_code))\n",
    "    print(response.text)"
   ]
  },
  {
   "cell_type": "markdown",
   "metadata": {},
   "source": [
    "## Concha (v1) Service\n",
    "Concha runs as a RESTful service you must execute in `concha/concha` directory running `python3 concha` in a console. It will offer an end-point in `localhost:5000`.\n",
    "\n",
    "### Concha Resources\n",
    "Concha deals with two resources: **documents** and **tricks**. Documents are the plain natural language sentences you tell Concha to interact with. Tricks are the \"programs\" you instruct Concha with to know how to deal with each document. Concha will select the right combination among all stored tricks to react to every document it receive."
   ]
  },
  {
   "cell_type": "code",
   "execution_count": 39,
   "metadata": {
    "scrolled": true
   },
   "outputs": [
    {
     "name": "stdout",
     "output_type": "stream",
     "text": [
      "status=200\n",
      "[]\n",
      "\n"
     ]
    }
   ],
   "source": [
    "# You should be able to verify concha service is up and running if execution returns an empty list:\n",
    "\"\"\"\n",
    "status=200\n",
    "[]\n",
    "\"\"\"\n",
    "get('http://localhost:5000/v1/documents')"
   ]
  },
  {
   "cell_type": "markdown",
   "metadata": {},
   "source": [
    "## Servers (v1) auxiliar mock Service\n",
    "In order to have some predictable mock service to interact with, you can execute in `concha/mocks` directory the command `python3 servers`. It will offer an end point in `localhost:6000`.\n",
    "\n",
    "### Servers Resources\n",
    "Servers offers one single resource: **servers**. It simulates the management of a fake cluster of servers (a micro cloud with no real servers behind) you can query, start and stop."
   ]
  },
  {
   "cell_type": "code",
   "execution_count": 40,
   "metadata": {},
   "outputs": [
    {
     "name": "stdout",
     "output_type": "stream",
     "text": [
      "status=200\n",
      "{}\n",
      "\n"
     ]
    }
   ],
   "source": [
    "# You should be able to verify servers service is up and running if execution returns an empty JSON:\n",
    "\"\"\"\n",
    "status=200\n",
    "{}\n",
    "\"\"\"\n",
    "get('http://localhost:6000/v1/servers')"
   ]
  },
  {
   "cell_type": "markdown",
   "metadata": {},
   "source": [
    "### Server Methods\n",
    "There's just a plain CRUD set of methods:\n",
    "* **POST /v1/servers/server_name** A new server named server_name (if it doesn't exist yet) with whatever JSON description in the body.\n",
    "* **GET /v1/servers** The named set of all servers with its description and fake load.\n",
    "* **GET /v1/servers/server_name** The description and fake load of server_name server.\n",
    "* **PUT /v1/servers/server_name** Modify server named server_name (if it already exists) with whatever new JSON description in the body.\n",
    "* **DEL /v1/servers/server_name** Delete server named server_name (if it already exists)."
   ]
  },
  {
   "cell_type": "markdown",
   "metadata": {},
   "source": [
    "## Documents\n",
    "Documents resources are stored in memory (no persistence yet) in a sequential way (append only).\n",
    "\n",
    "### Documents Methods\n",
    "Methods are as few as possible.\n",
    "* **POST /v1/documents:analyzeSyntax** Fancy method to get the syntactic analysis of the given text. This is an instrumental function to help to think in the development of new _tricks_ (more on this later).\n",
    "\n",
    "_Request body:_ The text you want Concha deal with\n",
    "```javascript\n",
    "{\n",
    "\t\"text\": \"mi mamá me mima\"\n",
    "}\n",
    "```\n",
    "\n",
    "_Response body:_ A JSON structure with the parsing of the text according to the [Universal Dependencies annotation guidelines](http://universaldependencies.org). It's weird, but legible, and you can consider it as the internal Concha's assembler. You just need to know _ID_ is sequential order of the word in the text (starting by 1), _FORM_ is the word itself, and the _key_ of each compound object (i.e. _\"nsubj\"_ = nominal subject) is the [syntactic relationship](http://universaldependencies.org/u/dep/index.html) to the parent key.\n",
    "```javascript\n",
    "{\n",
    "    \"ROOT\": {\n",
    "        \"FEATS\": \"Mood=Ind|Number=Sing|Person=1|Tense=Past|VerbForm=Fin|fPOS=VERB++\",\n",
    "        \"FORM\": \"mima\",\n",
    "        \"ID\": \"4\",\n",
    "        \"UPOSTAG\": \"VERB\",\n",
    "        \"iobj\": {\n",
    "            \"FEATS\": \"Case=Acc,Dat|Number=Sing|Person=1|PrepCase=Npr|PronType=Prs|Reflex=Yes|fPOS=PRON++\",\n",
    "            \"FORM\": \"me\",\n",
    "            \"ID\": \"3\",\n",
    "            \"UPOSTAG\": \"PRON\"\n",
    "        },\n",
    "        \"nsubj\": {\n",
    "            \"FEATS\": \"Gender=Fem|Number=Sing|fPOS=NOUN++\",\n",
    "            \"FORM\": \"mamá\",\n",
    "            \"ID\": \"2\",\n",
    "            \"UPOSTAG\": \"NOUN\",\n",
    "            \"det\": {\n",
    "                \"FEATS\": \"Number=Sing|Person=1|Poss=Yes|PronType=Prs|fPOS=DET++\",\n",
    "                \"FORM\": \"mi\",\n",
    "                \"ID\": \"1\",\n",
    "                \"UPOSTAG\": \"DET\"\n",
    "            }\n",
    "        }\n",
    "    }\n",
    "}\n",
    "```"
   ]
  },
  {
   "cell_type": "code",
   "execution_count": 41,
   "metadata": {},
   "outputs": [
    {
     "name": "stdout",
     "output_type": "stream",
     "text": [
      "status=200\n",
      "{\n",
      "  \"ROOT\": {\n",
      "    \"FEATS\": \"Mood=Ind|Number=Sing|Person=1|Tense=Past|VerbForm=Fin|fPOS=VERB++\", \n",
      "    \"FORM\": \"mima\", \n",
      "    \"ID\": \"4\", \n",
      "    \"UPOSTAG\": \"VERB\", \n",
      "    \"iobj\": {\n",
      "      \"FEATS\": \"Case=Acc,Dat|Number=Sing|Person=1|PrepCase=Npr|PronType=Prs|Reflex=Yes|fPOS=PRON++\", \n",
      "      \"FORM\": \"me\", \n",
      "      \"ID\": \"3\", \n",
      "      \"UPOSTAG\": \"PRON\"\n",
      "    }, \n",
      "    \"nsubj\": {\n",
      "      \"FEATS\": \"Gender=Fem|Number=Sing|fPOS=NOUN++\", \n",
      "      \"FORM\": \"mam\\u00e1\", \n",
      "      \"ID\": \"2\", \n",
      "      \"UPOSTAG\": \"NOUN\", \n",
      "      \"det\": {\n",
      "        \"FEATS\": \"Number=Sing|Person=1|Poss=Yes|PronType=Prs|fPOS=DET++\", \n",
      "        \"FORM\": \"mi\", \n",
      "        \"ID\": \"1\", \n",
      "        \"UPOSTAG\": \"DET\"\n",
      "      }\n",
      "    }\n",
      "  }\n",
      "}\n",
      "\n"
     ]
    }
   ],
   "source": [
    "# Let Concha do some syntactical analysis with your own phrases\n",
    "post(\n",
    "    'http://localhost:5000/v1/documents:analyzeSyntax',\n",
    "    {\"text\": \"mi mamá me mima\"}\n",
    ")"
   ]
  },
  {
   "cell_type": "markdown",
   "metadata": {},
   "source": [
    "* **POST /v1/documents** It is used as the way to _tell_ Concha new documents to deal with, and recover the details of the associated actions in the answer.\n",
    "\n",
    "_Request body:_ The text you want Concha deal with\n",
    "```javascript\n",
    "{\n",
    "\t\"text\": \"repite hola mundo\"\n",
    "}\n",
    "```\n",
    "\n",
    "_Response body:_ It holds the _answer_text_ (the very Concha's answer to the given document), a sequential _id_ numbering the documents as they arrive, the syntactical analysis of the document _request_ (equal to the documents:analyzeSyntax response) and a list of the applied _tricks_ in the order they where used.\n",
    "```javascript\n",
    "{\n",
    "    \"answer_text\": \"hola mundo\",\n",
    "    \"id\": 3,\n",
    "    \"request\": {\n",
    "        \"ROOT\": {\n",
    "            \"FEATS\": \"Mood=Sub|Number=Sing|Person=3|Tense=Pres|VerbForm=Fin|fPOS=VERB++\",\n",
    "            \"FORM\": \"repite\",\n",
    "            \"ID\": \"1\",\n",
    "            \"UPOSTAG\": \"VERB\",\n",
    "            \"dobj\": {\n",
    "                \"FEATS\": \"Gender=Masc|Number=Sing|fPOS=NOUN++\",\n",
    "                \"FORM\": \"mundo\",\n",
    "                \"ID\": \"3\",\n",
    "                \"UPOSTAG\": \"NOUN\",\n",
    "                \"amod\": {\n",
    "                    \"FEATS\": \"Number=Sing|fPOS=ADJ++\",\n",
    "                    \"FORM\": \"hola\",\n",
    "                    \"ID\": \"2\",\n",
    "                    \"UPOSTAG\": \"ADJ\"\n",
    "                }\n",
    "            }\n",
    "        }\n",
    "    },\n",
    "    \"tricks\": [\n",
    "        0\n",
    "    ]\n",
    "}```\n",
    "\n",
    "It has not been explained yet a clue about how to deal with _tricks_, so any usage up to now should fail returning a Concha proprietary error status code (600)."
   ]
  },
  {
   "cell_type": "code",
   "execution_count": 42,
   "metadata": {},
   "outputs": [
    {
     "name": "stdout",
     "output_type": "stream",
     "text": [
      "status=600\n",
      "{\n",
      "  \"answer_text\": \"{'FORM': 'NoTrick'}\", \n",
      "  \"id\": 0, \n",
      "  \"request\": {\n",
      "    \"ROOT\": {\n",
      "      \"FEATS\": \"Mood=Sub|Number=Sing|Person=3|Tense=Pres|VerbForm=Fin|fPOS=VERB++\", \n",
      "      \"FORM\": \"repite\", \n",
      "      \"ID\": \"1\", \n",
      "      \"UPOSTAG\": \"VERB\", \n",
      "      \"dobj\": {\n",
      "        \"FEATS\": \"Gender=Masc|Number=Sing|fPOS=NOUN++\", \n",
      "        \"FORM\": \"mundo\", \n",
      "        \"ID\": \"3\", \n",
      "        \"UPOSTAG\": \"NOUN\", \n",
      "        \"amod\": {\n",
      "          \"FEATS\": \"Number=Sing|fPOS=ADJ++\", \n",
      "          \"FORM\": \"hola\", \n",
      "          \"ID\": \"2\", \n",
      "          \"UPOSTAG\": \"ADJ\"\n",
      "        }\n",
      "      }\n",
      "    }\n",
      "  }, \n",
      "  \"tricks\": []\n",
      "}\n",
      "\n"
     ]
    }
   ],
   "source": [
    "# There should yield a failure sending a document when Concha hasn learnt no trick yet:\n",
    "\"\"\"\n",
    "status=600\n",
    "{\n",
    "  \"answer_text\": \"{'FORM': 'NoTrick'}\", \n",
    "  \"id\": ......\n",
    "\"\"\"\n",
    "post(\n",
    "    'http://localhost:5000/v1/documents',\n",
    "    {\"text\": \"repite hola mundo\"}\n",
    ")"
   ]
  },
  {
   "cell_type": "markdown",
   "metadata": {},
   "source": [
    "* **GET /v1/documents** It returns the list of previously received and processed documents to date, with an associated timestamp.\n",
    "\n",
    "_Response body:_ A list with the _date_ timestamp and the _text_ of each of the previously received documents.\n",
    "```javascript\n",
    "[\n",
    "    {\n",
    "        \"date\": \"2018-02-06 21:04:15\",\n",
    "        \"text\": \"repite hola mundo\"\n",
    "    },\n",
    "    {\n",
    "        \"date\": \"2018-02-06 23:09:21\",\n",
    "        \"text\": \"repite lo más difícil que te salga\"\n",
    "    }\n",
    "]\n",
    "```"
   ]
  },
  {
   "cell_type": "code",
   "execution_count": 43,
   "metadata": {},
   "outputs": [
    {
     "name": "stdout",
     "output_type": "stream",
     "text": [
      "status=200\n",
      "[\n",
      "  {\n",
      "    \"date\": \"2018-02-08 00:55:06\", \n",
      "    \"text\": \"repite hola mundo\"\n",
      "  }\n",
      "]\n",
      "\n"
     ]
    }
   ],
   "source": [
    "# Documents list should hold all the (failed) documents you have sent up to now:\n",
    "get('http://localhost:5000/v1/documents')"
   ]
  },
  {
   "cell_type": "markdown",
   "metadata": {},
   "source": [
    "## Tricks\n",
    "Tricks resources are stored in memory (no persistence yet) in a sequential way (append only).\n",
    "\n",
    "### Trick structure\n",
    "Every trick has an _antecedent_ (`given`) and a _consequent_ (`then`) part, and some (most of them) have an optional _action_ (`when`) part. Any trick will be triggeed if the current document (or its derivatives) matches the `given`. In that case, if there's a `when` part it will be executed. Lastly, the `then` part will generate a final or intermediate answer with the combination of some new words, part of the incoming document and/or part of the action response. Tricks will be recursively self-assembled to get to the appropriate answer.\n",
    "```javascript\n",
    "{\n",
    "\t\"given\": {\n",
    "\t\t\"ROOT\": {\n",
    "\t\t\t\"FORM\": \"da\",\n",
    "\t\t\t\"dobj\": {\n",
    "\t\t\t\t\"FORM\": \"*algo\"\n",
    "\t\t\t},\n",
    "\t\t\t\"iobj\": {\n",
    "\t\t\t\t\"FORM\": \"*alguien\",\n",
    "\t\t\t\t\"case\": {\n",
    "\t\t\t\t\t\"FORM\": \"a\"\n",
    "\t\t\t\t}\n",
    "\t\t\t}\n",
    "\t\t}\n",
    "\t},\n",
    "\t\"then\": {\n",
    "\t\t\"200\": \"Le voy a dar {d[ROOT][dobj]} , si no hay inconveniente , {d[ROOT][iobj]}\",\n",
    "\t\t\"400\": \"No puedo darlo, no me has especificado qué dar o a quién\"\n",
    "\t}\n",
    "}\n",
    "```\n",
    "**Given part** holds a subset of a Universal Dependencies syntactic analysis, holding the most important parts of your favourite phrase you want to react to. Usually you will focus on _FORM_ fields (the very words) and the syntactical dependencies (keys of the object tree). The values of the _FORM_ fields have a different meaning according to its first letter:\n",
    "* **No special starting character:** The word must match as is.\n",
    "* **Word starting by ~ character:** It means it could match with a similar word (not implemented yet, doing right now an \"as is\" matching).\n",
    "* **Word starting by * character:** It means it will match with any word (remaining word acts as a explainatory comment).\n",
    "\n",
    "**When part** will be explained later as it is used. Tricks with no `when` part are actionless tricks who act just as word mappers.\n",
    "\n",
    "** Then part** will generate a combined text response according to the status code of the action, if any (actionless tricks are assumed to always return `200`).\n",
    "\n",
    "### Trick sub-text selection format\n",
    "In order to get a part of a text, Concha uses the `python str.format()` syntax, nesting `object[child][grandchild]...`. Those references will be replaced for the full branch the references points to (i.e. the full direct object, as much words it is built of). When accessing part of the incoming _document_ (to the trick, it could be an intermediate incoming document), references will start by letter \"d\", as you can see in the previous example. When accesing the action _response_ they will start by letter \"r\", followed by `[body]` (it would access in a future to header content).\n",
    "\n",
    "### Tricks Methods\n",
    "Methods are as few as possible.\n",
    "* **POST /v1/tricks** Sets up a new trick.\n",
    "\n",
    "_Request body:_ The trick as stated in the trick structure explanation.\n",
    "\n",
    "_Response body:_ A JSON indicating the sequential _id_ of the new trick and a message with the final status (HTTP status code indicates if there's some issue). It uses to return a 201 code."
   ]
  },
  {
   "cell_type": "code",
   "execution_count": 44,
   "metadata": {},
   "outputs": [
    {
     "name": "stdout",
     "output_type": "stream",
     "text": [
      "status=201\n",
      "{\n",
      "  \"id\": 0, \n",
      "  \"message\": \"trick 0 created Ok\"\n",
      "}\n",
      "\n"
     ]
    }
   ],
   "source": [
    "# Let's teach Concha its first new trick:\n",
    "post(\n",
    "    'http://localhost:5000/v1/tricks',\n",
    "    {\n",
    "\t\"given\": {\n",
    "\t\t\"ROOT\": {\n",
    "\t\t\t\"FORM\": \"repite\",\n",
    "\t\t\t\"dobj\": {\n",
    "\t\t\t\t\"FORM\": \"*algo\"\n",
    "\t\t\t}\n",
    "\t\t}\n",
    "\t},\n",
    "\t\"then\": {\n",
    "\t\t\"200\": \"{d[ROOT][dobj]}\",\n",
    "\t\t\"400\": \"No puedo repetirlo, no me has especificado qué repetir\"\n",
    "\t}\n",
    "}\n",
    ")"
   ]
  },
  {
   "cell_type": "code",
   "execution_count": 45,
   "metadata": {},
   "outputs": [
    {
     "name": "stdout",
     "output_type": "stream",
     "text": [
      "status=201\n",
      "{\n",
      "  \"answer_text\": \"hola mundo\", \n",
      "  \"id\": 1, \n",
      "  \"request\": {\n",
      "    \"ROOT\": {\n",
      "      \"FEATS\": \"Mood=Sub|Number=Sing|Person=3|Tense=Pres|VerbForm=Fin|fPOS=VERB++\", \n",
      "      \"FORM\": \"repite\", \n",
      "      \"ID\": \"1\", \n",
      "      \"UPOSTAG\": \"VERB\", \n",
      "      \"dobj\": {\n",
      "        \"FEATS\": \"Gender=Masc|Number=Sing|fPOS=NOUN++\", \n",
      "        \"FORM\": \"mundo\", \n",
      "        \"ID\": \"3\", \n",
      "        \"UPOSTAG\": \"NOUN\", \n",
      "        \"amod\": {\n",
      "          \"FEATS\": \"Number=Sing|fPOS=ADJ++\", \n",
      "          \"FORM\": \"hola\", \n",
      "          \"ID\": \"2\", \n",
      "          \"UPOSTAG\": \"ADJ\"\n",
      "        }\n",
      "      }\n",
      "    }\n",
      "  }, \n",
      "  \"tricks\": [\n",
      "    0\n",
      "  ]\n",
      "}\n",
      "\n"
     ]
    }
   ],
   "source": [
    "# Let make Concha do the first \"hello world\"\n",
    "post(\n",
    "    'http://localhost:5000/v1/documents',\n",
    "    {\"text\": \"repite hola mundo\"}\n",
    ")"
   ]
  },
  {
   "cell_type": "code",
   "execution_count": null,
   "metadata": {
    "collapsed": true
   },
   "outputs": [],
   "source": []
  }
 ],
 "metadata": {
  "kernelspec": {
   "display_name": "Python 3",
   "language": "python",
   "name": "python3"
  },
  "language_info": {
   "codemirror_mode": {
    "name": "ipython",
    "version": 3
   },
   "file_extension": ".py",
   "mimetype": "text/x-python",
   "name": "python",
   "nbconvert_exporter": "python",
   "pygments_lexer": "ipython3",
   "version": "3.6.3"
  }
 },
 "nbformat": 4,
 "nbformat_minor": 2
}
